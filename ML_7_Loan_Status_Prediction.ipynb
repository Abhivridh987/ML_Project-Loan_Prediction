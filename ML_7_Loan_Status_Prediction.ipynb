import numpy as np
import pandas as pd
import matplotlib.pyplot as plt
import seaborn as sns
from sklearn.model_selection import train_test_split
from sklearn.metrics import accuracy_score
from sklearn.linear_model import LogisticRegression
from sklearn import svm
from sklearn.preprocessing import StandardScaler

df = pd.read_csv("train_u6lujuX_CVtuZ9i (1).csv")
df


#Gender
df['Gender'].value_counts()
df.replace({'Gender':{'Male':0,'Female':1}},inplace=True);
df['Gender'].value_counts()

#Married
df['Married'].value_counts()
df.replace({'Married':{'Yes':1,'No':0}},inplace=True);
df['Married'].value_counts()

#Education
df['Education'].value_counts()
df.replace({'Education':{'Graduate':1,'Not Graduate':0}},inplace=True);
df['Education'].value_counts()

#Self_Employed
df['Self_Employed'].value_counts()
df.replace({'Self_Employed':{'Yes':1,'No':0}},inplace=True);
df['Self_Employed'].value_counts()

#Property_Area
df['Property_Area'].value_counts()
df.replace({'Property_Area':{'Urban':2,'Semiurban':1,'Rural':0}},inplace=True);
df['Property_Area'].value_counts()

df

#Checking for Null Values
df.isna().sum()

df.dropna(inplace=True)
df['Dependents'].value_counts()
df.replace({'Dependents':{0:0,1:1,2:2,'3+':3}},inplace=True)
df

df.replace({'Loan_Status' : {'Y':1,'N':0}},inplace=True)
df

print(df.columns)
print(df.describe())

X_train,X_test,Y_train,Y_test = train_test_split(df.drop(columns=['Loan_Status','Loan_ID'],axis=1),df['Loan_Status'],test_size=0.2,random_state=2,stratify=df['Loan_Status'])

scaler = StandardScaler()
scaler.fit(X_train)
X_train = scaler.transform(X_train)
X_test = scaler.transform(X_test)

model2 = svm.SVC()
model2.fit(X_train,Y_train)
X_train_prediction2 = model2.predict(X_train)
training_data_accuracy2 = accuracy_score(X_train_prediction2,Y_train)
print("Accuracy on training data : ",training_data_accuracy2)
X_test_prediction2 = model2.predict(X_test)
test_data_accuracy2 = accuracy_score(X_test_prediction2,Y_test)
print("Accuracy on test data : ",test_data_accuracy2)

sns.relplot(x="ApplicantIncome",y="Loan_Status",data=df)

df.drop('Loan_ID',axis=1,inplace=True)
df

sns.heatmap(df.corr(),cmap='Blues',square=True)
plt.plot()



sns.relplot(x="ApplicantIncome",y="LoanAmount",hue="Loan_Status",col="Education",data=df)

sns.histplot(df['LoanAmount'])
